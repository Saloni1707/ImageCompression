{
  "nbformat": 4,
  "nbformat_minor": 0,
  "metadata": {
    "colab": {
      "provenance": [],
      "authorship_tag": "ABX9TyMqqk0OF7yzQIZSMmjwgddt",
      "include_colab_link": true
    },
    "kernelspec": {
      "name": "python3",
      "display_name": "Python 3"
    },
    "language_info": {
      "name": "python"
    }
  },
  "cells": [
    {
      "cell_type": "markdown",
      "metadata": {
        "id": "view-in-github",
        "colab_type": "text"
      },
      "source": [
        "<a href=\"https://colab.research.google.com/github/Saloni1707/ImageCompression/blob/main/PCAfromScratch.ipynb\" target=\"_parent\"><img src=\"https://colab.research.google.com/assets/colab-badge.svg\" alt=\"Open In Colab\"/></a>"
      ]
    },
    {
      "cell_type": "markdown",
      "source": [
        "PCA -> This has really intrigued me how interesting is this that we can reduce the dimensionality of the data points.\n",
        "This makes me think further about the atoms that are present inside the molecules the high dimensional space with so many features\n",
        "Stuff only gets more & more interesting.Will dive deeper soon!"
      ],
      "metadata": {
        "id": "qtkziwncrGpm"
      }
    },
    {
      "cell_type": "code",
      "source": [
        "#1.Standardize dataset\n",
        "import pandas as pd\n",
        "import numpy as np\n",
        "import seaborn as sns"
      ],
      "metadata": {
        "id": "eanyqaEoqj9u"
      },
      "execution_count": 8,
      "outputs": []
    },
    {
      "cell_type": "code",
      "source": [
        "iris =sns.load_dataset('iris')\n",
        "X=iris.drop(columns=['species']).to_numpy()\n"
      ],
      "metadata": {
        "id": "-n6Kf_zUrvNf"
      },
      "execution_count": 15,
      "outputs": []
    },
    {
      "cell_type": "code",
      "source": [
        "def covariance_matrix(X, n_rows):\n",
        "    covariance_matrix = sum([\n",
        "        X[i].reshape(-1,1) @ X[i].reshape(1,-1)\n",
        "        for i in range(n_rows)\n",
        "    ]) / n_rows\n",
        "    return covariance_matrix\n",
        "\n",
        "cov_matrix = covariance_matrix(X, 150)\n",
        "print(cov_matrix)"
      ],
      "metadata": {
        "colab": {
          "base_uri": "https://localhost:8080/"
        },
        "id": "lnhl24bMsciG",
        "outputId": "a10a8539-8f62-45ed-a587-5dd6b135c314"
      },
      "execution_count": 16,
      "outputs": [
        {
          "output_type": "stream",
          "name": "stdout",
          "text": [
            "[[34.82566667 17.82286667 23.22506667  7.52093333]\n",
            " [17.82286667  9.536      11.162       3.54593333]\n",
            " [23.22506667 11.162      17.21806667  5.79406667]\n",
            " [ 7.52093333  3.54593333  5.79406667  2.01553333]]\n"
          ]
        }
      ]
    },
    {
      "cell_type": "code",
      "source": [
        "#figuring out the further math!"
      ],
      "metadata": {
        "id": "UTFcPtnatwKd"
      },
      "execution_count": null,
      "outputs": []
    }
  ]
}